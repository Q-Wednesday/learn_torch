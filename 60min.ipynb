{
 "nbformat": 4,
 "nbformat_minor": 2,
 "metadata": {
  "language_info": {
   "name": "python",
   "codemirror_mode": {
    "name": "ipython",
    "version": 3
   },
   "version": "3.7.3-final"
  },
  "orig_nbformat": 2,
  "file_extension": ".py",
  "mimetype": "text/x-python",
  "name": "python",
  "npconvert_exporter": "python",
  "pygments_lexer": "ipython3",
  "version": 3,
  "kernelspec": {
   "name": "python37364bite7fec6a734424d8fa80b8bf4026e3ff1",
   "display_name": "Python 3.7.3 64-bit"
  }
 },
 "cells": [
  {
   "cell_type": "code",
   "execution_count": 28,
   "metadata": {},
   "outputs": [],
   "source": [
    "#Auotograd\n",
    "import torch"
   ]
  },
  {
   "cell_type": "code",
   "execution_count": 29,
   "metadata": {},
   "outputs": [
    {
     "name": "stdout",
     "output_type": "stream",
     "text": "tensor([[1., 1.],\n        [1., 1.]], requires_grad=True)\n"
    }
   ],
   "source": [
    "x=torch.ones(2,2,requires_grad=True)\n",
    "print(x)\n"
   ]
  },
  {
   "cell_type": "code",
   "execution_count": 30,
   "metadata": {},
   "outputs": [
    {
     "name": "stdout",
     "output_type": "stream",
     "text": "tensor([[3., 3.],\n        [3., 3.]], grad_fn=<AddBackward0>)\n"
    }
   ],
   "source": [
    "y=x+2\n",
    "print(y)"
   ]
  },
  {
   "cell_type": "code",
   "execution_count": 31,
   "metadata": {},
   "outputs": [
    {
     "name": "stdout",
     "output_type": "stream",
     "text": "<AddBackward0 object at 0x0000029AE05EEA20>\n"
    }
   ],
   "source": [
    "#y是一次运算的结果，所以是有grad_fn的\n",
    "print(y.grad_fn)"
   ]
  },
  {
   "cell_type": "code",
   "execution_count": 32,
   "metadata": {},
   "outputs": [
    {
     "name": "stdout",
     "output_type": "stream",
     "text": "tensor([[27., 27.],\n        [27., 27.]], grad_fn=<MulBackward0>) tensor(27., grad_fn=<MeanBackward0>)\n"
    }
   ],
   "source": [
    "z=y*y*3\n",
    "out=z.mean()\n",
    "print(z,out)"
   ]
  },
  {
   "cell_type": "code",
   "execution_count": 33,
   "metadata": {},
   "outputs": [
    {
     "name": "stdout",
     "output_type": "stream",
     "text": "False\nTrue\n<SumBackward0 object at 0x0000029AE77FB320>\n"
    }
   ],
   "source": [
    "a=torch.rand(2,2)\n",
    "a=((a*3)/(a-1))\n",
    "print(a.requires_grad)\n",
    "a.requires_grad_(True)\n",
    "print(a.requires_grad)\n",
    "b=(a*a).sum()\n",
    "print(b.grad_fn)\n"
   ]
  },
  {
   "cell_type": "code",
   "execution_count": 34,
   "metadata": {},
   "outputs": [
    {
     "name": "stdout",
     "output_type": "stream",
     "text": "tensor([[4.5000, 4.5000],\n        [4.5000, 4.5000]])\n"
    }
   ],
   "source": [
    "out.backward()\n",
    "print(x.grad)"
   ]
  },
  {
   "cell_type": "code",
   "execution_count": 35,
   "metadata": {},
   "outputs": [
    {
     "name": "stdout",
     "output_type": "stream",
     "text": "tensor([ -365.9189,   810.9857, -1675.1530], grad_fn=<MulBackward0>)\n"
    }
   ],
   "source": [
    "x=torch.randn(3,requires_grad=True)\n",
    "y=x*2\n",
    "while y.data.norm()<1000:\n",
    "    y=y*2\n",
    "print(y)"
   ]
  },
  {
   "cell_type": "code",
   "execution_count": 36,
   "metadata": {},
   "outputs": [
    {
     "name": "stdout",
     "output_type": "stream",
     "text": "tensor([1.0240e+02, 1.0240e+03, 1.0240e-01])\n"
    }
   ],
   "source": [
    "v=torch.tensor([0.1,1.0,0.0001],dtype=torch.float)\n",
    "y.backward(v)\n",
    "\n",
    "print(x.grad)"
   ]
  },
  {
   "cell_type": "code",
   "execution_count": 37,
   "metadata": {},
   "outputs": [
    {
     "data": {
      "text/plain": "torch.Size([8, 8])"
     },
     "execution_count": 37,
     "metadata": {},
     "output_type": "execute_result"
    }
   ],
   "source": [
    "#卷积，填充\n",
    "import torch\n",
    "from torch import nn\n",
    "#计算卷积层函数，对输入和输出进行升维，降维\n",
    "def comp_conv2d(conv2d,X):\n",
    "    X=X.view((1,1)+X.shape)#(1,1)代表批量大小和通道数\n",
    "    Y=conv2d(X)\n",
    "    return Y.view(Y.shape[2:])#不关心前两维，批量与通道\n",
    "conv2d=nn.Conv2d(in_channels=1,out_channels=1,kernel_size=3,padding=1)#注意这个是在两侧分别填充一行/列，所以总共是填充了2，填出10x10\n",
    "X=torch.rand(8,8)\n",
    "comp_conv2d(conv2d,X).shape#10 10用3 3卷积，得到8 8"
   ]
  },
  {
   "cell_type": "code",
   "execution_count": 38,
   "metadata": {},
   "outputs": [
    {
     "data": {
      "text/plain": "torch.Size([8, 8])"
     },
     "execution_count": 38,
     "metadata": {},
     "output_type": "execute_result"
    }
   ],
   "source": [
    "#当然宽和高不同也可以设置不同的填充数使输入输出有相同的宽和高\n",
    "conv2d=nn.Conv2d(in_channels=1,out_channels=1,kernel_size=(5,3),padding=(2,1))#高为5宽为3的卷积核，填充是2，1\n",
    "comp_conv2d(conv2d,X).shape\n"
   ]
  },
  {
   "cell_type": "code",
   "execution_count": 39,
   "metadata": {},
   "outputs": [
    {
     "data": {
      "text/plain": "torch.Size([4, 4])"
     },
     "execution_count": 39,
     "metadata": {},
     "output_type": "execute_result"
    }
   ],
   "source": [
    "#设置步幅\n",
    "conv2d=nn.Conv2d(1,1,kernel_size=3,padding=1,stride=2)\n",
    "comp_conv2d(conv2d,X).shape"
   ]
  },
  {
   "cell_type": "code",
   "execution_count": 40,
   "metadata": {},
   "outputs": [
    {
     "data": {
      "text/plain": "tensor([[[[ 0.,  1.,  2.,  3.],\n          [ 4.,  5.,  6.,  7.],\n          [ 8.,  9., 10., 11.],\n          [12., 13., 14., 15.]]]])"
     },
     "execution_count": 40,
     "metadata": {},
     "output_type": "execute_result"
    }
   ],
   "source": [
    "#尝试池化层\n",
    "X=torch.arange(16,dtype=torch.float).view((1,1,4,4))\n",
    "X"
   ]
  },
  {
   "cell_type": "code",
   "execution_count": 41,
   "metadata": {},
   "outputs": [
    {
     "data": {
      "text/plain": "tensor([[[[10.]]]])"
     },
     "execution_count": 41,
     "metadata": {},
     "output_type": "execute_result"
    }
   ],
   "source": [
    "pool2d=nn.MaxPool2d(3)\n",
    "pool2d(X)#默认步幅形状是(3,3)"
   ]
  },
  {
   "cell_type": "code",
   "execution_count": 42,
   "metadata": {},
   "outputs": [
    {
     "data": {
      "text/plain": "tensor([[[[ 5.,  7.],\n          [13., 15.]]]])"
     },
     "execution_count": 42,
     "metadata": {},
     "output_type": "execute_result"
    }
   ],
   "source": [
    "pool2d=nn.MaxPool2d(3,padding=1,stride=2)\n",
    "pool2d(X)"
   ]
  },
  {
   "cell_type": "code",
   "execution_count": 43,
   "metadata": {},
   "outputs": [
    {
     "name": "stdout",
     "output_type": "stream",
     "text": "Net(\n  (conv1): Conv2d(1, 6, kernel_size=(3, 3), stride=(1, 1))\n  (conv2): Conv2d(6, 16, kernel_size=(3, 3), stride=(1, 1))\n  (fc1): Linear(in_features=576, out_features=120, bias=True)\n  (fc2): Linear(in_features=120, out_features=84, bias=True)\n  (fc3): Linear(in_features=84, out_features=10, bias=True)\n)\n"
    }
   ],
   "source": [
    "#define the network\n",
    "import torch.nn as nn\n",
    "import torch.nn.functional as F\n",
    "import torch\n",
    "class Net(nn.Module):\n",
    "\n",
    "    def __init__(self):\n",
    "        super(Net,self).__init__()\n",
    "        #一个输入通道，6个输出通道，3x3卷积核\n",
    "        #kernel1\n",
    "        self.conv1=nn.Conv2d(1,6,3)#对应的是输入，输出通道，核大小\n",
    "        self.conv2=nn.Conv2d(6,16,3)\n",
    "        #affine计算\n",
    "        self.fc1=nn.Linear(16*6*6,120)\n",
    "        self.fc2=nn.Linear(120,84)\n",
    "        self.fc3=nn.Linear(84,10)\n",
    "    def forward(self,x):\n",
    "        #Max pooling over a (2,2) window\n",
    "        x=F.max_pool2d(F.relu(self.conv1(x)),(2,2))\n",
    "        x=F.max_pool2d(F.relu(self.conv2(x)),(2,2))\n",
    "        x=x.view(-1,self.num_flat_features(x))\n",
    "        x=F.relu(self.fc1(x))\n",
    "        x=F.relu(self.fc2(x))\n",
    "        x=self.fc3(x)\n",
    "        return x\n",
    "    def num_flat_features(self,x):\n",
    "        size=x.size()[1:]#包含除了batchsize之外的维度\n",
    "        num_features=1\n",
    "        for s in size:\n",
    "            num_features*=s\n",
    "        return num_features\n",
    "net=Net()\n",
    "print(net)\n",
    "#我们只需要定义前馈函数，反向传播函数会用自动求导求出"
   ]
  },
  {
   "cell_type": "code",
   "execution_count": 44,
   "metadata": {},
   "outputs": [
    {
     "name": "stdout",
     "output_type": "stream",
     "text": "10\ntorch.Size([6, 1, 3, 3])\n"
    }
   ],
   "source": [
    "#可以洗参数可以由net.parameters()获取\n",
    "params=list(net.parameters())\n",
    "print(len(params))\n",
    "print(params[0].size())"
   ]
  },
  {
   "cell_type": "code",
   "execution_count": 45,
   "metadata": {},
   "outputs": [
    {
     "name": "stdout",
     "output_type": "stream",
     "text": "tensor([[-0.0590, -0.0758, -0.0413, -0.0877, -0.0515,  0.1274, -0.0164, -0.1189,\n          0.1340,  0.0203]], grad_fn=<AddmmBackward>)\n"
    }
   ],
   "source": [
    "#尝试一下输入32x32.注意，这个网络是LeNet,输入大小要是32x32\n",
    "input=torch.randn(1,1,32,32)\n",
    "out=net(input)\n",
    "print(out)"
   ]
  },
  {
   "cell_type": "code",
   "execution_count": 46,
   "metadata": {},
   "outputs": [],
   "source": [
    "net.zero_grad()\n",
    "out.backward(torch.randn(1,10))\n",
    "#注意torch.nn只支持mini-batches的输入，比如nn.Conv2d会接收一个四维的张量，样本容量x通道数x高x宽。如果只有一个样本，使用input.unsqueeze(0)增加一个维度\n"
   ]
  },
  {
   "cell_type": "code",
   "execution_count": 47,
   "metadata": {},
   "outputs": [
    {
     "name": "stdout",
     "output_type": "stream",
     "text": "tensor(0.4592, grad_fn=<MseLossBackward>)\n"
    }
   ],
   "source": [
    "#计算损失\n",
    "output=net(input)\n",
    "target=torch.randn(10)\n",
    "target=target.view(1,-1)\n",
    "criterion=nn.MSELoss()\n",
    "\n",
    "loss=criterion(output,target)\n",
    "print(loss)"
   ]
  },
  {
   "cell_type": "code",
   "execution_count": 48,
   "metadata": {},
   "outputs": [
    {
     "name": "stdout",
     "output_type": "stream",
     "text": "<MseLossBackward object at 0x0000029AE78001D0>\n<AddmmBackward object at 0x0000029AE7800208>\n<AccumulateGrad object at 0x0000029AE78001D0>\n"
    }
   ],
   "source": [
    "print(loss.grad_fn)\n",
    "print(loss.grad_fn.next_functions[0][0])\n",
    "print(loss.grad_fn.next_functions[0][0].next_functions[0][0])"
   ]
  },
  {
   "cell_type": "code",
   "execution_count": 49,
   "metadata": {},
   "outputs": [
    {
     "name": "stdout",
     "output_type": "stream",
     "text": "conv1.bias.grad before backward\ntensor([0., 0., 0., 0., 0., 0.])\nconv1.bias.grad after backward\ntensor([-0.0120,  0.0012,  0.0042, -0.0005,  0.0098, -0.0004])\n"
    }
   ],
   "source": [
    "#反向传播。我们要先清零梯度\n",
    "net.zero_grad()\n",
    "\n",
    "print('conv1.bias.grad before backward')\n",
    "print(net.conv1.bias.grad)\n",
    "\n",
    "loss.backward()\n",
    "\n",
    "print('conv1.bias.grad after backward')\n",
    "print(net.conv1.bias.grad)"
   ]
  },
  {
   "cell_type": "code",
   "execution_count": 50,
   "metadata": {},
   "outputs": [],
   "source": [
    "#更新梯度\n",
    "learning_rate=0.01\n",
    "for f in net.parameters():\n",
    "    f.data.sub_(f.grad.data*learning_rate)"
   ]
  },
  {
   "cell_type": "code",
   "execution_count": 51,
   "metadata": {},
   "outputs": [
    {
     "name": "stdout",
     "output_type": "stream",
     "text": "0.007978439331054688\n"
    }
   ],
   "source": [
    "#若想使用更多的梯度更新方法，我们可以使用torch.optim\n",
    "import torch.optim as optim\n",
    "import time\n",
    "start=time.time()\n",
    "optimizer=optim.SGD(net.parameters(),lr=0.01)\n",
    "\n",
    "optimizer.zero_grad()#梯度置为零\n",
    "output=net(input)\n",
    "loss=criterion(output,target)\n",
    "loss.backward()\n",
    "optimizer.step()#进行更新\n",
    "\n",
    "print(time.time()-start)"
   ]
  },
  {
   "cell_type": "code",
   "execution_count": 52,
   "metadata": {},
   "outputs": [],
   "source": [
    "#训练一个分类器\n",
    "#数据从何而来？对于视觉，我们有一个包，torchversion,包含常见的数据集Imagenet,CIFAR10,MNIST.还有用于转换数据的转换器。torchvision.datasets and torch.utils.data.DataLoader\n",
    "#这个教程将使用CIFAR10.含有飞机，手机，鸟，猫，鹿，狗，青蛙，房子，船，卡车。图片型号是3x32x32\n",
    "\n",
    "\n",
    "#先加载并标准化\n",
    "import torch\n",
    "import torchvision\n",
    "import torchvision.transforms as transforms\n"
   ]
  },
  {
   "cell_type": "code",
   "execution_count": 53,
   "metadata": {},
   "outputs": [
    {
     "name": "stdout",
     "output_type": "stream",
     "text": "Files already downloaded and verified\n"
    }
   ],
   "source": [
    "transform=transforms.Compose([transforms.ToTensor(),transforms.Normalize((0.5,0.5,0.5),(0.5,0.5,0.5))])#把数个转换组合，ToTensor()是把PIL图片变为numpy,Normalize是把范围[0,1]变为[-1,1]\n",
    "trainset=torchvision.datasets.CIFAR10(root='./data',train=True,download=True,transform=transform)\n",
    "\n",
    "trainloader=torch.utils.data.DataLoader(trainset,batch_size=4,shuffle=True,num_workers=0)\n",
    "\n",
    "\n",
    "\n",
    "#这种下载方式太慢，是手动下载的"
   ]
  },
  {
   "cell_type": "code",
   "execution_count": 54,
   "metadata": {},
   "outputs": [
    {
     "name": "stdout",
     "output_type": "stream",
     "text": "Files already downloaded and verified\n"
    }
   ],
   "source": [
    "testset=torchvision.datasets.CIFAR10(root='./data',train=False,download=True,transform=transform)\n",
    "testloader=torch.utils.data.DataLoader(testset,batch_size=4,shuffle=False,num_workers=0)\n",
    "\n",
    "classes= ('plane', 'car', 'bird', 'cat',\n",
    "           'deer', 'dog', 'frog', 'horse', 'ship', 'truck')"
   ]
  },
  {
   "cell_type": "code",
   "execution_count": 56,
   "metadata": {},
   "outputs": [
    {
     "data": {
      "image/png": "[encoded data removed]",
      "image/svg+xml": "<?xml version=\"1.0\" encoding=\"utf-8\" standalone=\"no\"?>\r\n<!DOCTYPE svg PUBLIC \"-//W3C//DTD SVG 1.1//EN\"\r\n  \"http://www.w3.org/Graphics/SVG/1.1/DTD/svg11.dtd\">\r\n<!-- Created with matplotlib (https://matplotlib.org/) -->\r\n<svg height=\"121.003431pt\" version=\"1.1\" viewBox=\"0 0 368.925 121.003431\" width=\"368.925pt\" xmlns=\"http://www.w3.org/2000/svg\" xmlns:xlink=\"http://www.w3.org/1999/xlink\">\r\n <defs>\r\n  <style type=\"text/css\">\r\n*{stroke-linecap:butt;stroke-linejoin:round;}\r\n  </style>\r\n </defs>\r\n <g id=\"figure_1\">\r\n  <g id=\"patch_1\">\r\n   <path d=\"M -0 121.003431 \r\nL 368.925 121.003431 \r\nL 368.925 0 \r\nL -0 0 \r\nz\r\n\" style=\"fill:none;\"/>\r\n  </g>\r\n  <g id=\"axes_1\">\r\n   <g id=\"patch_2\">\r\n    <path d=\"M 26.925 97.125306 \r\nL 361.725 97.125306 \r\nL 361.725 9.786175 \r\nL 26.925 9.786175 \r\nz\r\n\" style=\"fill:#ffffff;\"/>\r\n   </g>\r\n   <g clip-path=\"url(#pa203d465d9)\">\r\n    <image height=\"88\" id=\"image6cf2babfdf\" transform=\"scale(1 -1)translate(0 -88)\" width=\"335\" x=\"26.925\" xlink:href=\"data:image/png;base64,\r\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\" y=\"-9.125306\"/>\r\n   </g>\r\n   <g id=\"matplotlib.axis_1\">\r\n    <g id=\"xtick_1\">\r\n     <g id=\"line2d_1\">\r\n      <defs>\r\n       <path d=\"M 0 0 \r\nL 0 3.5 \r\n\" id=\"mc40668df27\" style=\"stroke:#000000;stroke-width:0.8;\"/>\r\n      </defs>\r\n      <g>\r\n       <use style=\"stroke:#000000;stroke-width:0.8;\" x=\"28.138043\" xlink:href=\"#mc40668df27\" y=\"97.125306\"/>\r\n      </g>\r\n     </g>\r\n     <g id=\"text_1\">\r\n      <!-- 0 -->\r\n      <defs>\r\n       <path d=\"M 31.78125 66.40625 \r\nQ 24.171875 66.40625 20.328125 58.90625 \r\nQ 16.5 51.421875 16.5 36.375 \r\nQ 16.5 21.390625 20.328125 13.890625 \r\nQ 24.171875 6.390625 31.78125 6.390625 \r\nQ 39.453125 6.390625 43.28125 13.890625 \r\nQ 47.125 21.390625 47.125 36.375 \r\nQ 47.125 51.421875 43.28125 58.90625 \r\nQ 39.453125 66.40625 31.78125 66.40625 \r\nz\r\nM 31.78125 74.21875 \r\nQ 44.046875 74.21875 50.515625 64.515625 \r\nQ 56.984375 54.828125 56.984375 36.375 \r\nQ 56.984375 17.96875 50.515625 8.265625 \r\nQ 44.046875 -1.421875 31.78125 -1.421875 \r\nQ 19.53125 -1.421875 13.0625 8.265625 \r\nQ 6.59375 17.96875 6.59375 36.375 \r\nQ 6.59375 54.828125 13.0625 64.515625 \r\nQ 19.53125 74.21875 31.78125 74.21875 \r\nz\r\n\" id=\"DejaVuSans-48\"/>\r\n      </defs>\r\n      <g transform=\"translate(24.956793 111.723743)scale(0.1 -0.1)\">\r\n       <use xlink:href=\"#DejaVuSans-48\"/>\r\n      </g>\r\n     </g>\r\n    </g>\r\n    <g id=\"xtick_2\">\r\n     <g id=\"line2d_2\">\r\n      <g>\r\n       <use style=\"stroke:#000000;stroke-width:0.8;\" x=\"76.659783\" xlink:href=\"#mc40668df27\" y=\"97.125306\"/>\r\n      </g>\r\n     </g>\r\n     <g id=\"text_2\">\r\n      <!-- 20 -->\r\n      <defs>\r\n       <path d=\"M 19.1875 8.296875 \r\nL 53.609375 8.296875 \r\nL 53.609375 0 \r\nL 7.328125 0 \r\nL 7.328125 8.296875 \r\nQ 12.9375 14.109375 22.625 23.890625 \r\nQ 32.328125 33.6875 34.8125 36.53125 \r\nQ 39.546875 41.84375 41.421875 45.53125 \r\nQ 43.3125 49.21875 43.3125 52.78125 \r\nQ 43.3125 58.59375 39.234375 62.25 \r\nQ 35.15625 65.921875 28.609375 65.921875 \r\nQ 23.96875 65.921875 18.8125 64.3125 \r\nQ 13.671875 62.703125 7.8125 59.421875 \r\nL 7.8125 69.390625 \r\nQ 13.765625 71.78125 18.9375 73 \r\nQ 24.125 74.21875 28.421875 74.21875 \r\nQ 39.75 74.21875 46.484375 68.546875 \r\nQ 53.21875 62.890625 53.21875 53.421875 \r\nQ 53.21875 48.921875 51.53125 44.890625 \r\nQ 49.859375 40.875 45.40625 35.40625 \r\nQ 44.1875 33.984375 37.640625 27.21875 \r\nQ 31.109375 20.453125 19.1875 8.296875 \r\nz\r\n\" id=\"DejaVuSans-50\"/>\r\n      </defs>\r\n      <g transform=\"translate(70.297283 111.723743)scale(0.1 -0.1)\">\r\n       <use xlink:href=\"#DejaVuSans-50\"/>\r\n       <use x=\"63.623047\" xlink:href=\"#DejaVuSans-48\"/>\r\n      </g>\r\n     </g>\r\n    </g>\r\n    <g id=\"xtick_3\">\r\n     <g id=\"line2d_3\">\r\n      <g>\r\n       <use style=\"stroke:#000000;stroke-width:0.8;\" x=\"125.181522\" xlink:href=\"#mc40668df27\" y=\"97.125306\"/>\r\n      </g>\r\n     </g>\r\n     <g id=\"text_3\">\r\n      <!-- 40 -->\r\n      <defs>\r\n       <path d=\"M 37.796875 64.3125 \r\nL 12.890625 25.390625 \r\nL 37.796875 25.390625 \r\nz\r\nM 35.203125 72.90625 \r\nL 47.609375 72.90625 \r\nL 47.609375 25.390625 \r\nL 58.015625 25.390625 \r\nL 58.015625 17.1875 \r\nL 47.609375 17.1875 \r\nL 47.609375 0 \r\nL 37.796875 0 \r\nL 37.796875 17.1875 \r\nL 4.890625 17.1875 \r\nL 4.890625 26.703125 \r\nz\r\n\" id=\"DejaVuSans-52\"/>\r\n      </defs>\r\n      <g transform=\"translate(118.819022 111.723743)scale(0.1 -0.1)\">\r\n       <use xlink:href=\"#DejaVuSans-52\"/>\r\n       <use x=\"63.623047\" xlink:href=\"#DejaVuSans-48\"/>\r\n      </g>\r\n     </g>\r\n    </g>\r\n    <g id=\"xtick_4\">\r\n     <g id=\"line2d_4\">\r\n      <g>\r\n       <use style=\"stroke:#000000;stroke-width:0.8;\" x=\"173.703261\" xlink:href=\"#mc40668df27\" y=\"97.125306\"/>\r\n      </g>\r\n     </g>\r\n     <g id=\"text_4\">\r\n      <!-- 60 -->\r\n      <defs>\r\n       <path d=\"M 33.015625 40.375 \r\nQ 26.375 40.375 22.484375 35.828125 \r\nQ 18.609375 31.296875 18.609375 23.390625 \r\nQ 18.609375 15.53125 22.484375 10.953125 \r\nQ 26.375 6.390625 33.015625 6.390625 \r\nQ 39.65625 6.390625 43.53125 10.953125 \r\nQ 47.40625 15.53125 47.40625 23.390625 \r\nQ 47.40625 31.296875 43.53125 35.828125 \r\nQ 39.65625 40.375 33.015625 40.375 \r\nz\r\nM 52.59375 71.296875 \r\nL 52.59375 62.3125 \r\nQ 48.875 64.0625 45.09375 64.984375 \r\nQ 41.3125 65.921875 37.59375 65.921875 \r\nQ 27.828125 65.921875 22.671875 59.328125 \r\nQ 17.53125 52.734375 16.796875 39.40625 \r\nQ 19.671875 43.65625 24.015625 45.921875 \r\nQ 28.375 48.1875 33.59375 48.1875 \r\nQ 44.578125 48.1875 50.953125 41.515625 \r\nQ 57.328125 34.859375 57.328125 23.390625 \r\nQ 57.328125 12.15625 50.6875 5.359375 \r\nQ 44.046875 -1.421875 33.015625 -1.421875 \r\nQ 20.359375 -1.421875 13.671875 8.265625 \r\nQ 6.984375 17.96875 6.984375 36.375 \r\nQ 6.984375 53.65625 15.1875 63.9375 \r\nQ 23.390625 74.21875 37.203125 74.21875 \r\nQ 40.921875 74.21875 44.703125 73.484375 \r\nQ 48.484375 72.75 52.59375 71.296875 \r\nz\r\n\" id=\"DejaVuSans-54\"/>\r\n      </defs>\r\n      <g transform=\"translate(167.340761 111.723743)scale(0.1 -0.1)\">\r\n       <use xlink:href=\"#DejaVuSans-54\"/>\r\n       <use x=\"63.623047\" xlink:href=\"#DejaVuSans-48\"/>\r\n      </g>\r\n     </g>\r\n    </g>\r\n    <g id=\"xtick_5\">\r\n     <g id=\"line2d_5\">\r\n      <g>\r\n       <use style=\"stroke:#000000;stroke-width:0.8;\" x=\"222.225\" xlink:href=\"#mc40668df27\" y=\"97.125306\"/>\r\n      </g>\r\n     </g>\r\n     <g id=\"text_5\">\r\n      <!-- 80 -->\r\n      <defs>\r\n       <path d=\"M 31.78125 34.625 \r\nQ 24.75 34.625 20.71875 30.859375 \r\nQ 16.703125 27.09375 16.703125 20.515625 \r\nQ 16.703125 13.921875 20.71875 10.15625 \r\nQ 24.75 6.390625 31.78125 6.390625 \r\nQ 38.8125 6.390625 42.859375 10.171875 \r\nQ 46.921875 13.96875 46.921875 20.515625 \r\nQ 46.921875 27.09375 42.890625 30.859375 \r\nQ 38.875 34.625 31.78125 34.625 \r\nz\r\nM 21.921875 38.8125 \r\nQ 15.578125 40.375 12.03125 44.71875 \r\nQ 8.5 49.078125 8.5 55.328125 \r\nQ 8.5 64.0625 14.71875 69.140625 \r\nQ 20.953125 74.21875 31.78125 74.21875 \r\nQ 42.671875 74.21875 48.875 69.140625 \r\nQ 55.078125 64.0625 55.078125 55.328125 \r\nQ 55.078125 49.078125 51.53125 44.71875 \r\nQ 48 40.375 41.703125 38.8125 \r\nQ 48.828125 37.15625 52.796875 32.3125 \r\nQ 56.78125 27.484375 56.78125 20.515625 \r\nQ 56.78125 9.90625 50.3125 4.234375 \r\nQ 43.84375 -1.421875 31.78125 -1.421875 \r\nQ 19.734375 -1.421875 13.25 4.234375 \r\nQ 6.78125 9.90625 6.78125 20.515625 \r\nQ 6.78125 27.484375 10.78125 32.3125 \r\nQ 14.796875 37.15625 21.921875 38.8125 \r\nz\r\nM 18.3125 54.390625 \r\nQ 18.3125 48.734375 21.84375 45.5625 \r\nQ 25.390625 42.390625 31.78125 42.390625 \r\nQ 38.140625 42.390625 41.71875 45.5625 \r\nQ 45.3125 48.734375 45.3125 54.390625 \r\nQ 45.3125 60.0625 41.71875 63.234375 \r\nQ 38.140625 66.40625 31.78125 66.40625 \r\nQ 25.390625 66.40625 21.84375 63.234375 \r\nQ 18.3125 60.0625 18.3125 54.390625 \r\nz\r\n\" id=\"DejaVuSans-56\"/>\r\n      </defs>\r\n      <g transform=\"translate(215.8625 111.723743)scale(0.1 -0.1)\">\r\n       <use xlink:href=\"#DejaVuSans-56\"/>\r\n       <use x=\"63.623047\" xlink:href=\"#DejaVuSans-48\"/>\r\n      </g>\r\n     </g>\r\n    </g>\r\n    <g id=\"xtick_6\">\r\n     <g id=\"line2d_6\">\r\n      <g>\r\n       <use style=\"stroke:#000000;stroke-width:0.8;\" x=\"270.746739\" xlink:href=\"#mc40668df27\" y=\"97.125306\"/>\r\n      </g>\r\n     </g>\r\n     <g id=\"text_6\">\r\n      <!-- 100 -->\r\n      <defs>\r\n       <path d=\"M 12.40625 8.296875 \r\nL 28.515625 8.296875 \r\nL 28.515625 63.921875 \r\nL 10.984375 60.40625 \r\nL 10.984375 69.390625 \r\nL 28.421875 72.90625 \r\nL 38.28125 72.90625 \r\nL 38.28125 8.296875 \r\nL 54.390625 8.296875 \r\nL 54.390625 0 \r\nL 12.40625 0 \r\nz\r\n\" id=\"DejaVuSans-49\"/>\r\n      </defs>\r\n      <g transform=\"translate(261.202989 111.723743)scale(0.1 -0.1)\">\r\n       <use xlink:href=\"#DejaVuSans-49\"/>\r\n       <use x=\"63.623047\" xlink:href=\"#DejaVuSans-48\"/>\r\n       <use x=\"127.246094\" xlink:href=\"#DejaVuSans-48\"/>\r\n      </g>\r\n     </g>\r\n    </g>\r\n    <g id=\"xtick_7\">\r\n     <g id=\"line2d_7\">\r\n      <g>\r\n       <use style=\"stroke:#000000;stroke-width:0.8;\" x=\"319.268478\" xlink:href=\"#mc40668df27\" y=\"97.125306\"/>\r\n      </g>\r\n     </g>\r\n     <g id=\"text_7\">\r\n      <!-- 120 -->\r\n      <g transform=\"translate(309.724728 111.723743)scale(0.1 -0.1)\">\r\n       <use xlink:href=\"#DejaVuSans-49\"/>\r\n       <use x=\"63.623047\" xlink:href=\"#DejaVuSans-50\"/>\r\n       <use x=\"127.246094\" xlink:href=\"#DejaVuSans-48\"/>\r\n      </g>\r\n     </g>\r\n    </g>\r\n   </g>\r\n   <g id=\"matplotlib.axis_2\">\r\n    <g id=\"ytick_1\">\r\n     <g id=\"line2d_8\">\r\n      <defs>\r\n       <path d=\"M 0 0 \r\nL -3.5 0 \r\n\" id=\"m9e5afdcc23\" style=\"stroke:#000000;stroke-width:0.8;\"/>\r\n      </defs>\r\n      <g>\r\n       <use style=\"stroke:#000000;stroke-width:0.8;\" x=\"26.925\" xlink:href=\"#m9e5afdcc23\" y=\"10.999219\"/>\r\n      </g>\r\n     </g>\r\n     <g id=\"text_8\">\r\n      <!-- 0 -->\r\n      <g transform=\"translate(13.5625 14.798437)scale(0.1 -0.1)\">\r\n       <use xlink:href=\"#DejaVuSans-48\"/>\r\n      </g>\r\n     </g>\r\n    </g>\r\n    <g id=\"ytick_2\">\r\n     <g id=\"line2d_9\">\r\n      <g>\r\n       <use style=\"stroke:#000000;stroke-width:0.8;\" x=\"26.925\" xlink:href=\"#m9e5afdcc23\" y=\"35.260088\"/>\r\n      </g>\r\n     </g>\r\n     <g id=\"text_9\">\r\n      <!-- 10 -->\r\n      <g transform=\"translate(7.2 39.059307)scale(0.1 -0.1)\">\r\n       <use xlink:href=\"#DejaVuSans-49\"/>\r\n       <use x=\"63.623047\" xlink:href=\"#DejaVuSans-48\"/>\r\n      </g>\r\n     </g>\r\n    </g>\r\n    <g id=\"ytick_3\">\r\n     <g id=\"line2d_10\">\r\n      <g>\r\n       <use style=\"stroke:#000000;stroke-width:0.8;\" x=\"26.925\" xlink:href=\"#m9e5afdcc23\" y=\"59.520958\"/>\r\n      </g>\r\n     </g>\r\n     <g id=\"text_10\">\r\n      <!-- 20 -->\r\n      <g transform=\"translate(7.2 63.320177)scale(0.1 -0.1)\">\r\n       <use xlink:href=\"#DejaVuSans-50\"/>\r\n       <use x=\"63.623047\" xlink:href=\"#DejaVuSans-48\"/>\r\n      </g>\r\n     </g>\r\n    </g>\r\n    <g id=\"ytick_4\">\r\n     <g id=\"line2d_11\">\r\n      <g>\r\n       <use style=\"stroke:#000000;stroke-width:0.8;\" x=\"26.925\" xlink:href=\"#m9e5afdcc23\" y=\"83.781827\"/>\r\n      </g>\r\n     </g>\r\n     <g id=\"text_11\">\r\n      <!-- 30 -->\r\n      <defs>\r\n       <path d=\"M 40.578125 39.3125 \r\nQ 47.65625 37.796875 51.625 33 \r\nQ 55.609375 28.21875 55.609375 21.1875 \r\nQ 55.609375 10.40625 48.1875 4.484375 \r\nQ 40.765625 -1.421875 27.09375 -1.421875 \r\nQ 22.515625 -1.421875 17.65625 -0.515625 \r\nQ 12.796875 0.390625 7.625 2.203125 \r\nL 7.625 11.71875 \r\nQ 11.71875 9.328125 16.59375 8.109375 \r\nQ 21.484375 6.890625 26.8125 6.890625 \r\nQ 36.078125 6.890625 40.9375 10.546875 \r\nQ 45.796875 14.203125 45.796875 21.1875 \r\nQ 45.796875 27.640625 41.28125 31.265625 \r\nQ 36.765625 34.90625 28.71875 34.90625 \r\nL 20.21875 34.90625 \r\nL 20.21875 43.015625 \r\nL 29.109375 43.015625 \r\nQ 36.375 43.015625 40.234375 45.921875 \r\nQ 44.09375 48.828125 44.09375 54.296875 \r\nQ 44.09375 59.90625 40.109375 62.90625 \r\nQ 36.140625 65.921875 28.71875 65.921875 \r\nQ 24.65625 65.921875 20.015625 65.03125 \r\nQ 15.375 64.15625 9.8125 62.3125 \r\nL 9.8125 71.09375 \r\nQ 15.4375 72.65625 20.34375 73.4375 \r\nQ 25.25 74.21875 29.59375 74.21875 \r\nQ 40.828125 74.21875 47.359375 69.109375 \r\nQ 53.90625 64.015625 53.90625 55.328125 \r\nQ 53.90625 49.265625 50.4375 45.09375 \r\nQ 46.96875 40.921875 40.578125 39.3125 \r\nz\r\n\" id=\"DejaVuSans-51\"/>\r\n      </defs>\r\n      <g transform=\"translate(7.2 87.581046)scale(0.1 -0.1)\">\r\n       <use xlink:href=\"#DejaVuSans-51\"/>\r\n       <use x=\"63.623047\" xlink:href=\"#DejaVuSans-48\"/>\r\n      </g>\r\n     </g>\r\n    </g>\r\n   </g>\r\n   <g id=\"patch_3\">\r\n    <path d=\"M 26.925 97.125306 \r\nL 26.925 9.786175 \r\n\" style=\"fill:none;stroke:#000000;stroke-linecap:square;stroke-linejoin:miter;stroke-width:0.8;\"/>\r\n   </g>\r\n   <g id=\"patch_4\">\r\n    <path d=\"M 361.725 97.125306 \r\nL 361.725 9.786175 \r\n\" style=\"fill:none;stroke:#000000;stroke-linecap:square;stroke-linejoin:miter;stroke-width:0.8;\"/>\r\n   </g>\r\n   <g id=\"patch_5\">\r\n    <path d=\"M 26.925 97.125306 \r\nL 361.725 97.125306 \r\n\" style=\"fill:none;stroke:#000000;stroke-linecap:square;stroke-linejoin:miter;stroke-width:0.8;\"/>\r\n   </g>\r\n   <g id=\"patch_6\">\r\n    <path d=\"M 26.925 9.786175 \r\nL 361.725 9.786175 \r\n\" style=\"fill:none;stroke:#000000;stroke-linecap:square;stroke-linejoin:miter;stroke-width:0.8;\"/>\r\n   </g>\r\n  </g>\r\n </g>\r\n <defs>\r\n  <clipPath id=\"pa203d465d9\">\r\n   <rect height=\"87.33913\" width=\"334.8\" x=\"26.925\" y=\"9.786175\"/>\r\n  </clipPath>\r\n </defs>\r\n</svg>\r\n",
      "text/plain": "<Figure size 432x288 with 1 Axes>"
     },
     "metadata": {
      "needs_background": "light"
     },
     "output_type": "display_data"
    },
    {
     "name": "stdout",
     "output_type": "stream",
     "text": "bird  bird   dog truck\n"
    }
   ],
   "source": [
    "#查看一些图片\n",
    "import matplotlib.pyplot as plt\n",
    "import numpy as np\n",
    "\n",
    "def imshow(img):\n",
    "    img=img/2+0.5#把数据还原\n",
    "    npimg=img.numpy()\n",
    "    plt.imshow(np.transpose(npimg,(1,2,0)))#关于transpose函数，默认情况下就是求转置，输入参数，一个表示坐标轴序列的tuple.比如原本为通道数x高x宽，维度编号为0 1 2，这里就换成了高x宽x通道\n",
    "    plt.show()\n",
    "\n",
    "dataiter=iter(trainloader)\n",
    "images,labels=dataiter.next()\n",
    "\n",
    "imshow(torchvision.utils.make_grid(images))\n",
    "\n",
    "print(' '.join('%5s'%classes[labels[j]] for j in range(4)))"
   ]
  },
  {
   "cell_type": "code",
   "execution_count": 71,
   "metadata": {},
   "outputs": [],
   "source": [
    "#定义卷积神经网络，就把之前写的改为三通道\n",
    "import torch.nn as nn\n",
    "import torch.nn.functional as F\n",
    "\n",
    "\n",
    "class Net(nn.Module):\n",
    "    def __init__(self):\n",
    "        super(Net, self).__init__()\n",
    "        self.conv1 = nn.Conv2d(3, 6, 5)\n",
    "        self.pool = nn.MaxPool2d(2, 2)\n",
    "        self.conv2 = nn.Conv2d(6, 16, 5)\n",
    "        self.fc1 = nn.Linear(16 * 5 * 5, 120)\n",
    "        self.fc2 = nn.Linear(120, 84)\n",
    "        self.fc3 = nn.Linear(84, 10)\n",
    "\n",
    "    def forward(self, x):\n",
    "        x = self.pool(F.relu(self.conv1(x)))\n",
    "        x = self.pool(F.relu(self.conv2(x)))\n",
    "        x = x.view(-1, 16 * 5 * 5)\n",
    "        x = F.relu(self.fc1(x))\n",
    "        x = F.relu(self.fc2(x))\n",
    "        x = self.fc3(x)\n",
    "        return x\n",
    "\n",
    "\n",
    "net = Net()"
   ]
  },
  {
   "cell_type": "code",
   "execution_count": 72,
   "metadata": {},
   "outputs": [],
   "source": [
    "#定义损失函数和优化器\n",
    "import torch.optim as optim\n",
    "\n",
    "criterion=nn.CrossEntropyLoss()\n",
    "optimizer=optim.SGD(net.parameters(),lr=0.001,momentum=0.9)"
   ]
  },
  {
   "cell_type": "code",
   "execution_count": 73,
   "metadata": {},
   "outputs": [
    {
     "name": "stdout",
     "output_type": "stream",
     "text": "[1, 2000] loss:2.236\n[1, 4000] loss:1.925\n[1, 6000] loss:1.725\n[1, 8000] loss:1.617\n[1,10000] loss:1.548\n[1,12000] loss:1.492\n[2, 2000] loss:1.426\n[2, 4000] loss:1.367\n[2, 6000] loss:1.358\n[2, 8000] loss:1.331\n[2,10000] loss:1.314\n[2,12000] loss:1.289\nFinished Training\n167.88216376304626\n"
    }
   ],
   "source": [
    "#训练\n",
    "import time\n",
    "start=time.time()\n",
    "for epoch in range(2):\n",
    "\n",
    "    running_loss=0.0\n",
    "    for i,data in enumerate(trainloader,0):\n",
    "        inputs,labels=data\n",
    "\n",
    "        optimizer.zero_grad()\n",
    "\n",
    "        outputs=net(inputs)\n",
    "        loss=criterion(outputs,labels)\n",
    "        loss.backward()\n",
    "        optimizer.step()\n",
    "\n",
    "        running_loss+=loss.item()\n",
    "        if i%2000==1999:#每2000个batch打印一次\n",
    "            print('[%d,%5d] loss:%.3f'%(epoch+1,i+1,running_loss/2000))\n",
    "            running_loss=0.0\n",
    "print('Finished Training')\n",
    "print(time.time()-start)"
   ]
  },
  {
   "cell_type": "code",
   "execution_count": 60,
   "metadata": {},
   "outputs": [],
   "source": [
    "#保存训练的模型\n",
    "PATH='./cifar_net.pth'\n",
    "torch.save(net.state_dict(),PATH)"
   ]
  },
  {
   "cell_type": "code",
   "execution_count": 61,
   "metadata": {},
   "outputs": [
    {
     "data": {
      "image/png": "[encoded data removed]",
      "image/svg+xml": "<?xml version=\"1.0\" encoding=\"utf-8\" standalone=\"no\"?>\r\n<!DOCTYPE svg PUBLIC \"-//W3C//DTD SVG 1.1//EN\"\r\n  \"http://www.w3.org/Graphics/SVG/1.1/DTD/svg11.dtd\">\r\n<!-- Created with matplotlib (https://matplotlib.org/) -->\r\n<svg height=\"121.003431pt\" version=\"1.1\" viewBox=\"0 0 368.925 121.003431\" width=\"368.925pt\" xmlns=\"http://www.w3.org/2000/svg\" xmlns:xlink=\"http://www.w3.org/1999/xlink\">\r\n <defs>\r\n  <style type=\"text/css\">\r\n*{stroke-linecap:butt;stroke-linejoin:round;}\r\n  </style>\r\n </defs>\r\n <g id=\"figure_1\">\r\n  <g id=\"patch_1\">\r\n   <path d=\"M -0 121.003431 \r\nL 368.925 121.003431 \r\nL 368.925 0 \r\nL -0 0 \r\nz\r\n\" style=\"fill:none;\"/>\r\n  </g>\r\n  <g id=\"axes_1\">\r\n   <g id=\"patch_2\">\r\n    <path d=\"M 26.925 97.125306 \r\nL 361.725 97.125306 \r\nL 361.725 9.786175 \r\nL 26.925 9.786175 \r\nz\r\n\" style=\"fill:#ffffff;\"/>\r\n   </g>\r\n   <g clip-path=\"url(#pf2fc7cdd19)\">\r\n    <image height=\"88\" id=\"imageb758e2e05f\" transform=\"scale(1 -1)translate(0 -88)\" width=\"335\" x=\"26.925\" xlink:href=\"data:image/png;base64,\r\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\" y=\"-9.125306\"/>\r\n   </g>\r\n   <g id=\"matplotlib.axis_1\">\r\n    <g id=\"xtick_1\">\r\n     <g id=\"line2d_1\">\r\n      <defs>\r\n       <path d=\"M 0 0 \r\nL 0 3.5 \r\n\" id=\"m928d31356f\" style=\"stroke:#000000;stroke-width:0.8;\"/>\r\n      </defs>\r\n      <g>\r\n       <use style=\"stroke:#000000;stroke-width:0.8;\" x=\"28.138043\" xlink:href=\"#m928d31356f\" y=\"97.125306\"/>\r\n      </g>\r\n     </g>\r\n     <g id=\"text_1\">\r\n      <!-- 0 -->\r\n      <defs>\r\n       <path d=\"M 31.78125 66.40625 \r\nQ 24.171875 66.40625 20.328125 58.90625 \r\nQ 16.5 51.421875 16.5 36.375 \r\nQ 16.5 21.390625 20.328125 13.890625 \r\nQ 24.171875 6.390625 31.78125 6.390625 \r\nQ 39.453125 6.390625 43.28125 13.890625 \r\nQ 47.125 21.390625 47.125 36.375 \r\nQ 47.125 51.421875 43.28125 58.90625 \r\nQ 39.453125 66.40625 31.78125 66.40625 \r\nz\r\nM 31.78125 74.21875 \r\nQ 44.046875 74.21875 50.515625 64.515625 \r\nQ 56.984375 54.828125 56.984375 36.375 \r\nQ 56.984375 17.96875 50.515625 8.265625 \r\nQ 44.046875 -1.421875 31.78125 -1.421875 \r\nQ 19.53125 -1.421875 13.0625 8.265625 \r\nQ 6.59375 17.96875 6.59375 36.375 \r\nQ 6.59375 54.828125 13.0625 64.515625 \r\nQ 19.53125 74.21875 31.78125 74.21875 \r\nz\r\n\" id=\"DejaVuSans-48\"/>\r\n      </defs>\r\n      <g transform=\"translate(24.956793 111.723743)scale(0.1 -0.1)\">\r\n       <use xlink:href=\"#DejaVuSans-48\"/>\r\n      </g>\r\n     </g>\r\n    </g>\r\n    <g id=\"xtick_2\">\r\n     <g id=\"line2d_2\">\r\n      <g>\r\n       <use style=\"stroke:#000000;stroke-width:0.8;\" x=\"76.659783\" xlink:href=\"#m928d31356f\" y=\"97.125306\"/>\r\n      </g>\r\n     </g>\r\n     <g id=\"text_2\">\r\n      <!-- 20 -->\r\n      <defs>\r\n       <path d=\"M 19.1875 8.296875 \r\nL 53.609375 8.296875 \r\nL 53.609375 0 \r\nL 7.328125 0 \r\nL 7.328125 8.296875 \r\nQ 12.9375 14.109375 22.625 23.890625 \r\nQ 32.328125 33.6875 34.8125 36.53125 \r\nQ 39.546875 41.84375 41.421875 45.53125 \r\nQ 43.3125 49.21875 43.3125 52.78125 \r\nQ 43.3125 58.59375 39.234375 62.25 \r\nQ 35.15625 65.921875 28.609375 65.921875 \r\nQ 23.96875 65.921875 18.8125 64.3125 \r\nQ 13.671875 62.703125 7.8125 59.421875 \r\nL 7.8125 69.390625 \r\nQ 13.765625 71.78125 18.9375 73 \r\nQ 24.125 74.21875 28.421875 74.21875 \r\nQ 39.75 74.21875 46.484375 68.546875 \r\nQ 53.21875 62.890625 53.21875 53.421875 \r\nQ 53.21875 48.921875 51.53125 44.890625 \r\nQ 49.859375 40.875 45.40625 35.40625 \r\nQ 44.1875 33.984375 37.640625 27.21875 \r\nQ 31.109375 20.453125 19.1875 8.296875 \r\nz\r\n\" id=\"DejaVuSans-50\"/>\r\n      </defs>\r\n      <g transform=\"translate(70.297283 111.723743)scale(0.1 -0.1)\">\r\n       <use xlink:href=\"#DejaVuSans-50\"/>\r\n       <use x=\"63.623047\" xlink:href=\"#DejaVuSans-48\"/>\r\n      </g>\r\n     </g>\r\n    </g>\r\n    <g id=\"xtick_3\">\r\n     <g id=\"line2d_3\">\r\n      <g>\r\n       <use style=\"stroke:#000000;stroke-width:0.8;\" x=\"125.181522\" xlink:href=\"#m928d31356f\" y=\"97.125306\"/>\r\n      </g>\r\n     </g>\r\n     <g id=\"text_3\">\r\n      <!-- 40 -->\r\n      <defs>\r\n       <path d=\"M 37.796875 64.3125 \r\nL 12.890625 25.390625 \r\nL 37.796875 25.390625 \r\nz\r\nM 35.203125 72.90625 \r\nL 47.609375 72.90625 \r\nL 47.609375 25.390625 \r\nL 58.015625 25.390625 \r\nL 58.015625 17.1875 \r\nL 47.609375 17.1875 \r\nL 47.609375 0 \r\nL 37.796875 0 \r\nL 37.796875 17.1875 \r\nL 4.890625 17.1875 \r\nL 4.890625 26.703125 \r\nz\r\n\" id=\"DejaVuSans-52\"/>\r\n      </defs>\r\n      <g transform=\"translate(118.819022 111.723743)scale(0.1 -0.1)\">\r\n       <use xlink:href=\"#DejaVuSans-52\"/>\r\n       <use x=\"63.623047\" xlink:href=\"#DejaVuSans-48\"/>\r\n      </g>\r\n     </g>\r\n    </g>\r\n    <g id=\"xtick_4\">\r\n     <g id=\"line2d_4\">\r\n      <g>\r\n       <use style=\"stroke:#000000;stroke-width:0.8;\" x=\"173.703261\" xlink:href=\"#m928d31356f\" y=\"97.125306\"/>\r\n      </g>\r\n     </g>\r\n     <g id=\"text_4\">\r\n      <!-- 60 -->\r\n      <defs>\r\n       <path d=\"M 33.015625 40.375 \r\nQ 26.375 40.375 22.484375 35.828125 \r\nQ 18.609375 31.296875 18.609375 23.390625 \r\nQ 18.609375 15.53125 22.484375 10.953125 \r\nQ 26.375 6.390625 33.015625 6.390625 \r\nQ 39.65625 6.390625 43.53125 10.953125 \r\nQ 47.40625 15.53125 47.40625 23.390625 \r\nQ 47.40625 31.296875 43.53125 35.828125 \r\nQ 39.65625 40.375 33.015625 40.375 \r\nz\r\nM 52.59375 71.296875 \r\nL 52.59375 62.3125 \r\nQ 48.875 64.0625 45.09375 64.984375 \r\nQ 41.3125 65.921875 37.59375 65.921875 \r\nQ 27.828125 65.921875 22.671875 59.328125 \r\nQ 17.53125 52.734375 16.796875 39.40625 \r\nQ 19.671875 43.65625 24.015625 45.921875 \r\nQ 28.375 48.1875 33.59375 48.1875 \r\nQ 44.578125 48.1875 50.953125 41.515625 \r\nQ 57.328125 34.859375 57.328125 23.390625 \r\nQ 57.328125 12.15625 50.6875 5.359375 \r\nQ 44.046875 -1.421875 33.015625 -1.421875 \r\nQ 20.359375 -1.421875 13.671875 8.265625 \r\nQ 6.984375 17.96875 6.984375 36.375 \r\nQ 6.984375 53.65625 15.1875 63.9375 \r\nQ 23.390625 74.21875 37.203125 74.21875 \r\nQ 40.921875 74.21875 44.703125 73.484375 \r\nQ 48.484375 72.75 52.59375 71.296875 \r\nz\r\n\" id=\"DejaVuSans-54\"/>\r\n      </defs>\r\n      <g transform=\"translate(167.340761 111.723743)scale(0.1 -0.1)\">\r\n       <use xlink:href=\"#DejaVuSans-54\"/>\r\n       <use x=\"63.623047\" xlink:href=\"#DejaVuSans-48\"/>\r\n      </g>\r\n     </g>\r\n    </g>\r\n    <g id=\"xtick_5\">\r\n     <g id=\"line2d_5\">\r\n      <g>\r\n       <use style=\"stroke:#000000;stroke-width:0.8;\" x=\"222.225\" xlink:href=\"#m928d31356f\" y=\"97.125306\"/>\r\n      </g>\r\n     </g>\r\n     <g id=\"text_5\">\r\n      <!-- 80 -->\r\n      <defs>\r\n       <path d=\"M 31.78125 34.625 \r\nQ 24.75 34.625 20.71875 30.859375 \r\nQ 16.703125 27.09375 16.703125 20.515625 \r\nQ 16.703125 13.921875 20.71875 10.15625 \r\nQ 24.75 6.390625 31.78125 6.390625 \r\nQ 38.8125 6.390625 42.859375 10.171875 \r\nQ 46.921875 13.96875 46.921875 20.515625 \r\nQ 46.921875 27.09375 42.890625 30.859375 \r\nQ 38.875 34.625 31.78125 34.625 \r\nz\r\nM 21.921875 38.8125 \r\nQ 15.578125 40.375 12.03125 44.71875 \r\nQ 8.5 49.078125 8.5 55.328125 \r\nQ 8.5 64.0625 14.71875 69.140625 \r\nQ 20.953125 74.21875 31.78125 74.21875 \r\nQ 42.671875 74.21875 48.875 69.140625 \r\nQ 55.078125 64.0625 55.078125 55.328125 \r\nQ 55.078125 49.078125 51.53125 44.71875 \r\nQ 48 40.375 41.703125 38.8125 \r\nQ 48.828125 37.15625 52.796875 32.3125 \r\nQ 56.78125 27.484375 56.78125 20.515625 \r\nQ 56.78125 9.90625 50.3125 4.234375 \r\nQ 43.84375 -1.421875 31.78125 -1.421875 \r\nQ 19.734375 -1.421875 13.25 4.234375 \r\nQ 6.78125 9.90625 6.78125 20.515625 \r\nQ 6.78125 27.484375 10.78125 32.3125 \r\nQ 14.796875 37.15625 21.921875 38.8125 \r\nz\r\nM 18.3125 54.390625 \r\nQ 18.3125 48.734375 21.84375 45.5625 \r\nQ 25.390625 42.390625 31.78125 42.390625 \r\nQ 38.140625 42.390625 41.71875 45.5625 \r\nQ 45.3125 48.734375 45.3125 54.390625 \r\nQ 45.3125 60.0625 41.71875 63.234375 \r\nQ 38.140625 66.40625 31.78125 66.40625 \r\nQ 25.390625 66.40625 21.84375 63.234375 \r\nQ 18.3125 60.0625 18.3125 54.390625 \r\nz\r\n\" id=\"DejaVuSans-56\"/>\r\n      </defs>\r\n      <g transform=\"translate(215.8625 111.723743)scale(0.1 -0.1)\">\r\n       <use xlink:href=\"#DejaVuSans-56\"/>\r\n       <use x=\"63.623047\" xlink:href=\"#DejaVuSans-48\"/>\r\n      </g>\r\n     </g>\r\n    </g>\r\n    <g id=\"xtick_6\">\r\n     <g id=\"line2d_6\">\r\n      <g>\r\n       <use style=\"stroke:#000000;stroke-width:0.8;\" x=\"270.746739\" xlink:href=\"#m928d31356f\" y=\"97.125306\"/>\r\n      </g>\r\n     </g>\r\n     <g id=\"text_6\">\r\n      <!-- 100 -->\r\n      <defs>\r\n       <path d=\"M 12.40625 8.296875 \r\nL 28.515625 8.296875 \r\nL 28.515625 63.921875 \r\nL 10.984375 60.40625 \r\nL 10.984375 69.390625 \r\nL 28.421875 72.90625 \r\nL 38.28125 72.90625 \r\nL 38.28125 8.296875 \r\nL 54.390625 8.296875 \r\nL 54.390625 0 \r\nL 12.40625 0 \r\nz\r\n\" id=\"DejaVuSans-49\"/>\r\n      </defs>\r\n      <g transform=\"translate(261.202989 111.723743)scale(0.1 -0.1)\">\r\n       <use xlink:href=\"#DejaVuSans-49\"/>\r\n       <use x=\"63.623047\" xlink:href=\"#DejaVuSans-48\"/>\r\n       <use x=\"127.246094\" xlink:href=\"#DejaVuSans-48\"/>\r\n      </g>\r\n     </g>\r\n    </g>\r\n    <g id=\"xtick_7\">\r\n     <g id=\"line2d_7\">\r\n      <g>\r\n       <use style=\"stroke:#000000;stroke-width:0.8;\" x=\"319.268478\" xlink:href=\"#m928d31356f\" y=\"97.125306\"/>\r\n      </g>\r\n     </g>\r\n     <g id=\"text_7\">\r\n      <!-- 120 -->\r\n      <g transform=\"translate(309.724728 111.723743)scale(0.1 -0.1)\">\r\n       <use xlink:href=\"#DejaVuSans-49\"/>\r\n       <use x=\"63.623047\" xlink:href=\"#DejaVuSans-50\"/>\r\n       <use x=\"127.246094\" xlink:href=\"#DejaVuSans-48\"/>\r\n      </g>\r\n     </g>\r\n    </g>\r\n   </g>\r\n   <g id=\"matplotlib.axis_2\">\r\n    <g id=\"ytick_1\">\r\n     <g id=\"line2d_8\">\r\n      <defs>\r\n       <path d=\"M 0 0 \r\nL -3.5 0 \r\n\" id=\"mb384bb1d00\" style=\"stroke:#000000;stroke-width:0.8;\"/>\r\n      </defs>\r\n      <g>\r\n       <use style=\"stroke:#000000;stroke-width:0.8;\" x=\"26.925\" xlink:href=\"#mb384bb1d00\" y=\"10.999219\"/>\r\n      </g>\r\n     </g>\r\n     <g id=\"text_8\">\r\n      <!-- 0 -->\r\n      <g transform=\"translate(13.5625 14.798437)scale(0.1 -0.1)\">\r\n       <use xlink:href=\"#DejaVuSans-48\"/>\r\n      </g>\r\n     </g>\r\n    </g>\r\n    <g id=\"ytick_2\">\r\n     <g id=\"line2d_9\">\r\n      <g>\r\n       <use style=\"stroke:#000000;stroke-width:0.8;\" x=\"26.925\" xlink:href=\"#mb384bb1d00\" y=\"35.260088\"/>\r\n      </g>\r\n     </g>\r\n     <g id=\"text_9\">\r\n      <!-- 10 -->\r\n      <g transform=\"translate(7.2 39.059307)scale(0.1 -0.1)\">\r\n       <use xlink:href=\"#DejaVuSans-49\"/>\r\n       <use x=\"63.623047\" xlink:href=\"#DejaVuSans-48\"/>\r\n      </g>\r\n     </g>\r\n    </g>\r\n    <g id=\"ytick_3\">\r\n     <g id=\"line2d_10\">\r\n      <g>\r\n       <use style=\"stroke:#000000;stroke-width:0.8;\" x=\"26.925\" xlink:href=\"#mb384bb1d00\" y=\"59.520958\"/>\r\n      </g>\r\n     </g>\r\n     <g id=\"text_10\">\r\n      <!-- 20 -->\r\n      <g transform=\"translate(7.2 63.320177)scale(0.1 -0.1)\">\r\n       <use xlink:href=\"#DejaVuSans-50\"/>\r\n       <use x=\"63.623047\" xlink:href=\"#DejaVuSans-48\"/>\r\n      </g>\r\n     </g>\r\n    </g>\r\n    <g id=\"ytick_4\">\r\n     <g id=\"line2d_11\">\r\n      <g>\r\n       <use style=\"stroke:#000000;stroke-width:0.8;\" x=\"26.925\" xlink:href=\"#mb384bb1d00\" y=\"83.781827\"/>\r\n      </g>\r\n     </g>\r\n     <g id=\"text_11\">\r\n      <!-- 30 -->\r\n      <defs>\r\n       <path d=\"M 40.578125 39.3125 \r\nQ 47.65625 37.796875 51.625 33 \r\nQ 55.609375 28.21875 55.609375 21.1875 \r\nQ 55.609375 10.40625 48.1875 4.484375 \r\nQ 40.765625 -1.421875 27.09375 -1.421875 \r\nQ 22.515625 -1.421875 17.65625 -0.515625 \r\nQ 12.796875 0.390625 7.625 2.203125 \r\nL 7.625 11.71875 \r\nQ 11.71875 9.328125 16.59375 8.109375 \r\nQ 21.484375 6.890625 26.8125 6.890625 \r\nQ 36.078125 6.890625 40.9375 10.546875 \r\nQ 45.796875 14.203125 45.796875 21.1875 \r\nQ 45.796875 27.640625 41.28125 31.265625 \r\nQ 36.765625 34.90625 28.71875 34.90625 \r\nL 20.21875 34.90625 \r\nL 20.21875 43.015625 \r\nL 29.109375 43.015625 \r\nQ 36.375 43.015625 40.234375 45.921875 \r\nQ 44.09375 48.828125 44.09375 54.296875 \r\nQ 44.09375 59.90625 40.109375 62.90625 \r\nQ 36.140625 65.921875 28.71875 65.921875 \r\nQ 24.65625 65.921875 20.015625 65.03125 \r\nQ 15.375 64.15625 9.8125 62.3125 \r\nL 9.8125 71.09375 \r\nQ 15.4375 72.65625 20.34375 73.4375 \r\nQ 25.25 74.21875 29.59375 74.21875 \r\nQ 40.828125 74.21875 47.359375 69.109375 \r\nQ 53.90625 64.015625 53.90625 55.328125 \r\nQ 53.90625 49.265625 50.4375 45.09375 \r\nQ 46.96875 40.921875 40.578125 39.3125 \r\nz\r\n\" id=\"DejaVuSans-51\"/>\r\n      </defs>\r\n      <g transform=\"translate(7.2 87.581046)scale(0.1 -0.1)\">\r\n       <use xlink:href=\"#DejaVuSans-51\"/>\r\n       <use x=\"63.623047\" xlink:href=\"#DejaVuSans-48\"/>\r\n      </g>\r\n     </g>\r\n    </g>\r\n   </g>\r\n   <g id=\"patch_3\">\r\n    <path d=\"M 26.925 97.125306 \r\nL 26.925 9.786175 \r\n\" style=\"fill:none;stroke:#000000;stroke-linecap:square;stroke-linejoin:miter;stroke-width:0.8;\"/>\r\n   </g>\r\n   <g id=\"patch_4\">\r\n    <path d=\"M 361.725 97.125306 \r\nL 361.725 9.786175 \r\n\" style=\"fill:none;stroke:#000000;stroke-linecap:square;stroke-linejoin:miter;stroke-width:0.8;\"/>\r\n   </g>\r\n   <g id=\"patch_5\">\r\n    <path d=\"M 26.925 97.125306 \r\nL 361.725 97.125306 \r\n\" style=\"fill:none;stroke:#000000;stroke-linecap:square;stroke-linejoin:miter;stroke-width:0.8;\"/>\r\n   </g>\r\n   <g id=\"patch_6\">\r\n    <path d=\"M 26.925 9.786175 \r\nL 361.725 9.786175 \r\n\" style=\"fill:none;stroke:#000000;stroke-linecap:square;stroke-linejoin:miter;stroke-width:0.8;\"/>\r\n   </g>\r\n  </g>\r\n </g>\r\n <defs>\r\n  <clipPath id=\"pf2fc7cdd19\">\r\n   <rect height=\"87.33913\" width=\"334.8\" x=\"26.925\" y=\"9.786175\"/>\r\n  </clipPath>\r\n </defs>\r\n</svg>\r\n",
      "text/plain": "<Figure size 432x288 with 1 Axes>"
     },
     "metadata": {
      "needs_background": "light"
     },
     "output_type": "display_data"
    },
    {
     "name": "stdout",
     "output_type": "stream",
     "text": "GroundTruth:   cat  ship  ship plane\n"
    }
   ],
   "source": [
    "#测试数据\n",
    "dataiter=iter(testloader)\n",
    "images,labels=dataiter.next()\n",
    "\n",
    "imshow(torchvision.utils.make_grid(images))\n",
    "print('GroundTruth:',' '.join('%5s'%classes[labels[j]] for j in range(4)))"
   ]
  },
  {
   "cell_type": "code",
   "execution_count": 62,
   "metadata": {},
   "outputs": [
    {
     "data": {
      "text/plain": "IncompatibleKeys(missing_keys=[], unexpected_keys=[])"
     },
     "execution_count": 62,
     "metadata": {},
     "output_type": "execute_result"
    }
   ],
   "source": [
    "#加载保存的数据\n",
    "net=Net()\n",
    "net.load_state_dict(torch.load(PATH))"
   ]
  },
  {
   "cell_type": "code",
   "execution_count": 63,
   "metadata": {},
   "outputs": [],
   "source": [
    "outputs=net(images)"
   ]
  },
  {
   "cell_type": "code",
   "execution_count": 64,
   "metadata": {},
   "outputs": [
    {
     "name": "stdout",
     "output_type": "stream",
     "text": "Predicted:   cat  ship  ship  ship\n"
    }
   ],
   "source": [
    "_,predicted=torch.max(outputs,1)\n",
    "print('Predicted:',' '.join('%5s'%classes[predicted[j]] for j in range(4)))"
   ]
  },
  {
   "cell_type": "code",
   "execution_count": 65,
   "metadata": {},
   "outputs": [
    {
     "name": "stdout",
     "output_type": "stream",
     "text": "Accuracy of the network on the 10000 test images: 56 %\n"
    }
   ],
   "source": [
    "#下面看看整体结果\n",
    "correct=0\n",
    "total=0\n",
    "with torch.no_grad():\n",
    "    for data in testloader:\n",
    "        images,labels=data\n",
    "        outputs=net(images)\n",
    "        _,predicted=torch.max(outputs.data,1)\n",
    "        total+=labels.size(0)\n",
    "        correct+=(predicted==labels).sum().item()\n",
    "print('Accuracy of the network on the 10000 test images: %d %%' % (\n",
    "    100 * correct / total))   "
   ]
  },
  {
   "cell_type": "code",
   "execution_count": 66,
   "metadata": {},
   "outputs": [
    {
     "name": "stdout",
     "output_type": "stream",
     "text": "Accuracy of plane : 61 %\nAccuracy of   car : 77 %\nAccuracy of  bird : 29 %\nAccuracy of   cat : 35 %\nAccuracy of  deer : 51 %\nAccuracy of   dog : 49 %\nAccuracy of  frog : 77 %\nAccuracy of horse : 49 %\nAccuracy of  ship : 67 %\nAccuracy of truck : 61 %\n"
    }
   ],
   "source": [
    "#各类别的效果\n",
    "class_correct = list(0. for i in range(10))\n",
    "class_total = list(0. for i in range(10))\n",
    "with torch.no_grad():\n",
    "    for data in testloader:\n",
    "        images, labels = data\n",
    "        outputs = net(images)\n",
    "        _, predicted = torch.max(outputs, 1)\n",
    "        c = (predicted == labels).squeeze()\n",
    "        for i in range(4):\n",
    "            label = labels[i]\n",
    "            class_correct[label] += c[i].item()\n",
    "            class_total[label] += 1\n",
    "\n",
    "\n",
    "for i in range(10):\n",
    "    print('Accuracy of %5s : %2d %%' % (\n",
    "        classes[i], 100 * class_correct[i] / class_total[i]))"
   ]
  },
  {
   "cell_type": "code",
   "execution_count": 79,
   "metadata": {},
   "outputs": [
    {
     "name": "stdout",
     "output_type": "stream",
     "text": "cuda:0\n"
    }
   ],
   "source": [
    "#尝试GPU训练\n",
    "device = torch.device(\"cuda:0\" if torch.cuda.is_available() else \"cpu\")\n",
    "\n",
    "# Assuming that we are on a CUDA machine, this should print a CUDA device:\n",
    "\n",
    "print(device)"
   ]
  },
  {
   "cell_type": "code",
   "execution_count": 80,
   "metadata": {},
   "outputs": [
    {
     "data": {
      "text/plain": "Net(\n  (conv1): Conv2d(3, 6, kernel_size=(5, 5), stride=(1, 1))\n  (pool): MaxPool2d(kernel_size=2, stride=2, padding=0, dilation=1, ceil_mode=False)\n  (conv2): Conv2d(6, 16, kernel_size=(5, 5), stride=(1, 1))\n  (fc1): Linear(in_features=400, out_features=120, bias=True)\n  (fc2): Linear(in_features=120, out_features=84, bias=True)\n  (fc3): Linear(in_features=84, out_features=10, bias=True)\n)"
     },
     "execution_count": 80,
     "metadata": {},
     "output_type": "execute_result"
    }
   ],
   "source": [
    "net.to(device)"
   ]
  },
  {
   "cell_type": "code",
   "execution_count": 81,
   "metadata": {},
   "outputs": [],
   "source": [
    "#定义损失函数和优化器\n",
    "import torch.optim as optim\n",
    "\n",
    "criterion=nn.CrossEntropyLoss()\n",
    "optimizer=optim.SGD(net.parameters(),lr=0.001,momentum=0.9)\n"
   ]
  },
  {
   "cell_type": "code",
   "execution_count": 82,
   "metadata": {},
   "outputs": [
    {
     "name": "stdout",
     "output_type": "stream",
     "text": "[1, 2000] loss:1.240\n[1, 4000] loss:1.239\n[1, 6000] loss:1.209\n[1, 8000] loss:1.205\n[1,10000] loss:1.202\n[1,12000] loss:1.178\n[2, 2000] loss:1.112\n[2, 4000] loss:1.131\n[2, 6000] loss:1.114\n[2, 8000] loss:1.125\n[2,10000] loss:1.123\n[2,12000] loss:1.117\nFinished Training\n180.3126997947693\n"
    }
   ],
   "source": [
    "#训练\n",
    "import time\n",
    "start=time.time()\n",
    "for epoch in range(2):\n",
    "\n",
    "    running_loss=0.0\n",
    "    for i,data in enumerate(trainloader,0):\n",
    "        inputs,labels=data[0].to(device),data[1].to(device)\n",
    "\n",
    "        optimizer.zero_grad()\n",
    "\n",
    "        outputs=net(inputs)\n",
    "        loss=criterion(outputs,labels)\n",
    "        loss.backward()\n",
    "        optimizer.step()\n",
    "\n",
    "        running_loss+=loss.item()\n",
    "        if i%2000==1999:#每2000个batch打印一次\n",
    "            print('[%d,%5d] loss:%.3f'%(epoch+1,i+1,running_loss/2000))\n",
    "            running_loss=0.0\n",
    "print('Finished Training')\n",
    "print(time.time()-start)"
   ]
  },
  {
   "cell_type": "code",
   "execution_count": null,
   "metadata": {},
   "outputs": [],
   "source": []
  }
 ]
}