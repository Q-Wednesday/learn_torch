{
 "nbformat": 4,
 "nbformat_minor": 2,
 "metadata": {
  "language_info": {
   "name": "python",
   "codemirror_mode": {
    "name": "ipython",
    "version": 3
   },
   "version": "3.7.3-final"
  },
  "orig_nbformat": 2,
  "file_extension": ".py",
  "mimetype": "text/x-python",
  "name": "python",
  "npconvert_exporter": "python",
  "pygments_lexer": "ipython3",
  "version": 3,
  "kernelspec": {
   "name": "python37364bite7fec6a734424d8fa80b8bf4026e3ff1",
   "display_name": "Python 3.7.3 64-bit"
  }
 },
 "cells": [
  {
   "cell_type": "code",
   "execution_count": 2,
   "metadata": {},
   "outputs": [],
   "source": [
    "#Auotograd\n",
    "import torch"
   ]
  },
  {
   "cell_type": "code",
   "execution_count": 3,
   "metadata": {},
   "outputs": [
    {
     "name": "stdout",
     "output_type": "stream",
     "text": "tensor([[1., 1.],\n        [1., 1.]], requires_grad=True)\n"
    }
   ],
   "source": [
    "x=torch.ones(2,2,requires_grad=True)\n",
    "print(x)\n"
   ]
  },
  {
   "cell_type": "code",
   "execution_count": 4,
   "metadata": {},
   "outputs": [
    {
     "name": "stdout",
     "output_type": "stream",
     "text": "tensor([[3., 3.],\n        [3., 3.]], grad_fn=<AddBackward0>)\n"
    }
   ],
   "source": [
    "y=x+2\n",
    "print(y)"
   ]
  },
  {
   "cell_type": "code",
   "execution_count": 5,
   "metadata": {},
   "outputs": [
    {
     "name": "stdout",
     "output_type": "stream",
     "text": "<AddBackward0 object at 0x000001CF46543AC8>\n"
    }
   ],
   "source": [
    "#y是一次运算的结果，所以是有grad_fn的\n",
    "print(y.grad_fn)"
   ]
  },
  {
   "cell_type": "code",
   "execution_count": 6,
   "metadata": {},
   "outputs": [
    {
     "name": "stdout",
     "output_type": "stream",
     "text": "tensor([[27., 27.],\n        [27., 27.]], grad_fn=<MulBackward0>) tensor(27., grad_fn=<MeanBackward0>)\n"
    }
   ],
   "source": [
    "z=y*y*3\n",
    "out=z.mean()\n",
    "print(z,out)"
   ]
  },
  {
   "cell_type": "code",
   "execution_count": 7,
   "metadata": {},
   "outputs": [
    {
     "name": "stdout",
     "output_type": "stream",
     "text": "False\nTrue\n<SumBackward0 object at 0x000001CF46552518>\n"
    }
   ],
   "source": [
    "a=torch.rand(2,2)\n",
    "a=((a*3)/(a-1))\n",
    "print(a.requires_grad)\n",
    "a.requires_grad_(True)\n",
    "print(a.requires_grad)\n",
    "b=(a*a).sum()\n",
    "print(b.grad_fn)\n"
   ]
  },
  {
   "cell_type": "code",
   "execution_count": 8,
   "metadata": {},
   "outputs": [
    {
     "name": "stdout",
     "output_type": "stream",
     "text": "tensor([[4.5000, 4.5000],\n        [4.5000, 4.5000]])\n"
    }
   ],
   "source": [
    "out.backward()\n",
    "print(x.grad)"
   ]
  },
  {
   "cell_type": "code",
   "execution_count": 9,
   "metadata": {},
   "outputs": [
    {
     "name": "stdout",
     "output_type": "stream",
     "text": "tensor([-899.9338,  420.8034, 1397.9603], grad_fn=<MulBackward0>)\n"
    }
   ],
   "source": [
    "x=torch.randn(3,requires_grad=True)\n",
    "y=x*2\n",
    "while y.data.norm()<1000:\n",
    "    y=y*2\n",
    "print(y)"
   ]
  },
  {
   "cell_type": "code",
   "execution_count": 10,
   "metadata": {},
   "outputs": [
    {
     "name": "stdout",
     "output_type": "stream",
     "text": "tensor([1.0240e+02, 1.0240e+03, 1.0240e-01])\n"
    }
   ],
   "source": [
    "v=torch.tensor([0.1,1.0,0.0001],dtype=torch.float)\n",
    "y.backward(v)\n",
    "\n",
    "print(x.grad)"
   ]
  },
  {
   "cell_type": "code",
   "execution_count": 11,
   "metadata": {},
   "outputs": [
    {
     "data": {
      "text/plain": "torch.Size([8, 8])"
     },
     "execution_count": 11,
     "metadata": {},
     "output_type": "execute_result"
    }
   ],
   "source": [
    "#卷积，填充\n",
    "import torch\n",
    "from torch import nn\n",
    "#计算卷积层函数，对输入和输出进行升维，降维\n",
    "def comp_conv2d(conv2d,X):\n",
    "    X=X.view((1,1)+X.shape)#(1,1)代表批量大小和通道数\n",
    "    Y=conv2d(X)\n",
    "    return Y.view(Y.shape[2:])#不关心前两维，批量与通道\n",
    "conv2d=nn.Conv2d(in_channels=1,out_channels=1,kernel_size=3,padding=1)#注意这个是在两侧分别填充一行/列，所以总共是填充了2，填出10x10\n",
    "X=torch.rand(8,8)\n",
    "comp_conv2d(conv2d,X).shape#10 10用3 3卷积，得到8 8"
   ]
  },
  {
   "cell_type": "code",
   "execution_count": 12,
   "metadata": {},
   "outputs": [
    {
     "data": {
      "text/plain": "torch.Size([8, 8])"
     },
     "execution_count": 12,
     "metadata": {},
     "output_type": "execute_result"
    }
   ],
   "source": [
    "#当然宽和高不同也可以设置不同的填充数使输入输出有相同的宽和高\n",
    "conv2d=nn.Conv2d(in_channels=1,out_channels=1,kernel_size=(5,3),padding=(2,1))#高为5宽为3的卷积核，填充是2，1\n",
    "comp_conv2d(conv2d,X).shape\n"
   ]
  },
  {
   "cell_type": "code",
   "execution_count": 13,
   "metadata": {},
   "outputs": [
    {
     "data": {
      "text/plain": "torch.Size([4, 4])"
     },
     "execution_count": 13,
     "metadata": {},
     "output_type": "execute_result"
    }
   ],
   "source": [
    "#设置步幅\n",
    "conv2d=nn.Conv2d(1,1,kernel_size=3,padding=1,stride=2)\n",
    "comp_conv2d(conv2d,X).shape"
   ]
  },
  {
   "cell_type": "code",
   "execution_count": 14,
   "metadata": {},
   "outputs": [
    {
     "data": {
      "text/plain": "tensor([[[[ 0.,  1.,  2.,  3.],\n          [ 4.,  5.,  6.,  7.],\n          [ 8.,  9., 10., 11.],\n          [12., 13., 14., 15.]]]])"
     },
     "execution_count": 14,
     "metadata": {},
     "output_type": "execute_result"
    }
   ],
   "source": [
    "#尝试池化层\n",
    "X=torch.arange(16,dtype=torch.float).view((1,1,4,4))\n",
    "X"
   ]
  },
  {
   "cell_type": "code",
   "execution_count": 15,
   "metadata": {},
   "outputs": [
    {
     "data": {
      "text/plain": "tensor([[[[10.]]]])"
     },
     "execution_count": 15,
     "metadata": {},
     "output_type": "execute_result"
    }
   ],
   "source": [
    "pool2d=nn.MaxPool2d(3)\n",
    "pool2d(X)#默认步幅形状是(3,3)"
   ]
  },
  {
   "cell_type": "code",
   "execution_count": 16,
   "metadata": {},
   "outputs": [
    {
     "data": {
      "text/plain": "tensor([[[[ 5.,  7.],\n          [13., 15.]]]])"
     },
     "execution_count": 16,
     "metadata": {},
     "output_type": "execute_result"
    }
   ],
   "source": [
    "pool2d=nn.MaxPool2d(3,padding=1,stride=2)\n",
    "pool2d(X)"
   ]
  },
  {
   "cell_type": "code",
   "execution_count": 17,
   "metadata": {},
   "outputs": [
    {
     "name": "stdout",
     "output_type": "stream",
     "text": "Net(\n  (conv1): Conv2d(1, 6, kernel_size=(3, 3), stride=(1, 1))\n  (conv2): Conv2d(6, 16, kernel_size=(3, 3), stride=(1, 1))\n  (fc1): Linear(in_features=576, out_features=120, bias=True)\n  (fc2): Linear(in_features=120, out_features=84, bias=True)\n  (fc3): Linear(in_features=84, out_features=10, bias=True)\n)\n"
    }
   ],
   "source": [
    "#define the network\n",
    "import torch.nn as nn\n",
    "import torch.nn.functional as F\n",
    "import torch\n",
    "class Net(nn.Module):\n",
    "\n",
    "    def __init__(self):\n",
    "        super(Net,self).__init__()\n",
    "        #一个输入通道，6个输出通道，3x3卷积核\n",
    "        #kernel1\n",
    "        self.conv1=nn.Conv2d(1,6,3)#对应的是输入，输出通道，核大小\n",
    "        self.conv2=nn.Conv2d(6,16,3)\n",
    "        #affine计算\n",
    "        self.fc1=nn.Linear(16*6*6,120)\n",
    "        self.fc2=nn.Linear(120,84)\n",
    "        self.fc3=nn.Linear(84,10)\n",
    "    def forward(self,x):\n",
    "        #Max pooling over a (2,2) window\n",
    "        x=F.max_pool2d(F.relu(self.conv1(x)),(2,2))\n",
    "        x=F.max_pool2d(F.relu(self.conv2(x)),(2,2))\n",
    "        x=x.view(-1,self.num_flat_features(x))\n",
    "        x=F.relu(self.fc1(x))\n",
    "        x=F.relu(self.fc2(x))\n",
    "        x=self.fc3(x)\n",
    "        return x\n",
    "    def num_flat_features(self,x):\n",
    "        size=x.size()[1:]#包含除了batchsize之外的维度\n",
    "        num_features=1\n",
    "        for s in size:\n",
    "            num_features*=s\n",
    "        return num_features\n",
    "net=Net()\n",
    "print(net)\n",
    "#我们只需要定义前馈函数，反向传播函数会用自动求导求出"
   ]
  },
  {
   "cell_type": "code",
   "execution_count": 18,
   "metadata": {},
   "outputs": [
    {
     "name": "stdout",
     "output_type": "stream",
     "text": "10\ntorch.Size([6, 1, 3, 3])\n"
    }
   ],
   "source": [
    "#可以洗参数可以由net.parameters()获取\n",
    "params=list(net.parameters())\n",
    "print(len(params))\n",
    "print(params[0].size())"
   ]
  },
  {
   "cell_type": "code",
   "execution_count": 19,
   "metadata": {},
   "outputs": [
    {
     "name": "stdout",
     "output_type": "stream",
     "text": "tensor([[ 0.0950, -0.0105,  0.0945,  0.0136,  0.0505,  0.1896,  0.0208, -0.2025,\n         -0.0084, -0.0864]], grad_fn=<AddmmBackward>)\n"
    }
   ],
   "source": [
    "#尝试一下输入32x32.注意，这个网络是LeNet,输入大小要是32x32\n",
    "input=torch.randn(1,1,32,32)\n",
    "out=net(input)\n",
    "print(out)"
   ]
  },
  {
   "cell_type": "code",
   "execution_count": 20,
   "metadata": {},
   "outputs": [],
   "source": [
    "net.zero_grad()\n",
    "out.backward(torch.randn(1,10))\n",
    "#注意torch.nn只支持mini-batches的输入，比如nn.Conv2d会接收一个四维的张量，样本容量x通道数x高x宽。如果只有一个样本，使用input.unsqueeze(0)增加一个维度\n"
   ]
  },
  {
   "cell_type": "code",
   "execution_count": 21,
   "metadata": {},
   "outputs": [
    {
     "name": "stdout",
     "output_type": "stream",
     "text": "tensor(1.4816, grad_fn=<MseLossBackward>)\n"
    }
   ],
   "source": [
    "#计算损失\n",
    "output=net(input)\n",
    "target=torch.randn(10)\n",
    "target=target.view(1,-1)\n",
    "criterion=nn.MSELoss()\n",
    "\n",
    "loss=criterion(output,target)\n",
    "print(loss)"
   ]
  },
  {
   "cell_type": "code",
   "execution_count": 22,
   "metadata": {},
   "outputs": [
    {
     "name": "stdout",
     "output_type": "stream",
     "text": "<MseLossBackward object at 0x000001CF4658C438>\n<AddmmBackward object at 0x000001CF4658C588>\n<AccumulateGrad object at 0x000001CF4658C438>\n"
    }
   ],
   "source": [
    "print(loss.grad_fn)\n",
    "print(loss.grad_fn.next_functions[0][0])\n",
    "print(loss.grad_fn.next_functions[0][0].next_functions[0][0])"
   ]
  },
  {
   "cell_type": "code",
   "execution_count": 23,
   "metadata": {},
   "outputs": [
    {
     "name": "stdout",
     "output_type": "stream",
     "text": "conv1.bias.grad before backward\ntensor([0., 0., 0., 0., 0., 0.])\nconv1.bias.grad after backward\ntensor([ 0.0100, -0.0024,  0.0276,  0.0151,  0.0310,  0.0379])\n"
    }
   ],
   "source": [
    "#反向传播。我们要先清零梯度\n",
    "net.zero_grad()\n",
    "\n",
    "print('conv1.bias.grad before backward')\n",
    "print(net.conv1.bias.grad)\n",
    "\n",
    "loss.backward()\n",
    "\n",
    "print('conv1.bias.grad after backward')\n",
    "print(net.conv1.bias.grad)"
   ]
  },
  {
   "cell_type": "code",
   "execution_count": 24,
   "metadata": {},
   "outputs": [],
   "source": [
    "#更新梯度\n",
    "learning_rate=0.01\n",
    "for f in net.parameters():\n",
    "    f.data.sub_(f.grad.data*learning_rate)"
   ]
  },
  {
   "cell_type": "code",
   "execution_count": 25,
   "metadata": {},
   "outputs": [
    {
     "name": "stdout",
     "output_type": "stream",
     "text": "0.0039043426513671875\n"
    }
   ],
   "source": [
    "#若想使用更多的梯度更新方法，我们可以使用torch.optim\n",
    "import torch.optim as optim\n",
    "import time\n",
    "start=time.time()\n",
    "optimizer=optim.SGD(net.parameters(),lr=0.01)\n",
    "\n",
    "optimizer.zero_grad()#梯度置为零\n",
    "output=net(input)\n",
    "loss=criterion(output,target)\n",
    "loss.backward()\n",
    "optimizer.step()#进行更新\n",
    "\n",
    "print(time.time()-start)"
   ]
  },
  {
   "cell_type": "code",
   "execution_count": 26,
   "metadata": {},
   "outputs": [],
   "source": [
    "#训练一个分类器\n",
    "#数据从何而来？对于视觉，我们有一个包，torchversion,包含常见的数据集Imagenet,CIFAR10,MNIST.还有用于转换数据的转换器。torchvision.datasets and torch.utils.data.DataLoader\n",
    "#这个教程将使用CIFAR10.含有飞机，手机，鸟，猫，鹿，狗，青蛙，房子，船，卡车。图片型号是3x32x32\n",
    "\n",
    "\n",
    "#先加载并标准化\n",
    "import torch\n",
    "import torchvision\n",
    "import torchvision.transforms as transforms\n"
   ]
  },
  {
   "cell_type": "code",
   "execution_count": 40,
   "metadata": {},
   "outputs": [
    {
     "name": "stdout",
     "output_type": "stream",
     "text": "Files already downloaded and verified\n"
    }
   ],
   "source": [
    "transform=transforms.Compose([transforms.ToTensor(),transforms.Normalize((0.5,0.5,0.5),(0.5,0.5,0.5))])#把数个转换组合，ToTensor()是把PIL图片变为numpy,Normalize是把范围[0,1]变为[-1,1]\n",
    "trainset=torchvision.datasets.CIFAR10(root='./data',train=True,download=True,transform=transform)\n",
    "\n",
    "trainloader=torch.utils.data.DataLoader(trainset,batch_size=4,shuffle=True,num_workers=0)\n",
    "\n",
    "\n",
    "\n",
    "#这种下载方式太慢，是手动下载的"
   ]
  },
  {
   "cell_type": "code",
   "execution_count": 41,
   "metadata": {},
   "outputs": [
    {
     "name": "stdout",
     "output_type": "stream",
     "text": "Files already downloaded and verified\n"
    }
   ],
   "source": [
    "testset=torchvision.datasets.CIFAR10(root='./data',train=False,download=True,transform=transform)\n",
    "testloader=torch.utils.data.DataLoader(testset,batch_size=4,shuffle=False,num_workers=0)\n",
    "\n",
    "classes= ('plane', 'car', 'bird', 'cat',\n",
    "           'deer', 'dog', 'frog', 'horse', 'ship', 'truck')"
   ]
  },
  {
   "cell_type": "code",
   "execution_count": null,
   "metadata": {},
   "outputs": [],
   "source": []
  },
  {
   "cell_type": "code",
   "execution_count": null,
   "metadata": {},
   "outputs": [],
   "source": []
  },
  {
   "cell_type": "code",
   "execution_count": null,
   "metadata": {},
   "outputs": [],
   "source": []
  },
  {
   "cell_type": "code",
   "execution_count": null,
   "metadata": {},
   "outputs": [],
   "source": []
  },
  {
   "cell_type": "code",
   "execution_count": null,
   "metadata": {},
   "outputs": [],
   "source": []
  }
 ]
}