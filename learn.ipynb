{
 "nbformat": 4,
 "nbformat_minor": 2,
 "metadata": {
  "language_info": {
   "name": "python",
   "codemirror_mode": {
    "name": "ipython",
    "version": 3
   },
   "version": "3.7.3-final"
  },
  "orig_nbformat": 2,
  "file_extension": ".py",
  "mimetype": "text/x-python",
  "name": "python",
  "npconvert_exporter": "python",
  "pygments_lexer": "ipython3",
  "version": 3,
  "kernelspec": {
   "name": "python37364bitpytorchgpucondad001d335bb3e4cd7a60eb912d5940cc0",
   "display_name": "Python 3.7.3 64-bit ('pytorch_gpu': conda)"
  }
 },
 "cells": [
  {
   "cell_type": "code",
   "execution_count": 1,
   "metadata": {},
   "outputs": [],
   "source": [
    "import torch"
   ]
  },
  {
   "cell_type": "code",
   "execution_count": 2,
   "metadata": {},
   "outputs": [
    {
     "name": "stdout",
     "output_type": "stream",
     "text": "tensor([[8.7245e-39, 9.2755e-39, 8.9082e-39],\n        [9.9184e-39, 8.4490e-39, 9.6429e-39],\n        [1.0653e-38, 1.0469e-38, 4.2246e-39],\n        [1.0378e-38, 9.6429e-39, 9.2755e-39],\n        [9.7346e-39, 1.0745e-38, 1.0102e-38]])\n"
    }
   ],
   "source": [
    "x=torch.empty(5,3)\n",
    "print(x)"
   ]
  },
  {
   "cell_type": "code",
   "execution_count": 3,
   "metadata": {},
   "outputs": [
    {
     "name": "stdout",
     "output_type": "stream",
     "text": "tensor([[0.5136, 0.3728, 0.0700],\n        [0.9629, 0.9671, 0.9213],\n        [0.7046, 0.6868, 0.1409],\n        [0.3271, 0.9426, 0.4022],\n        [0.9171, 0.9477, 0.8985]])\n"
    }
   ],
   "source": [
    "x=torch.rand(5,3)\n",
    "print(x)"
   ]
  },
  {
   "cell_type": "code",
   "execution_count": 4,
   "metadata": {},
   "outputs": [
    {
     "name": "stdout",
     "output_type": "stream",
     "text": "tensor([[0, 0, 0],\n        [0, 0, 0],\n        [0, 0, 0],\n        [0, 0, 0],\n        [0, 0, 0]])\n"
    }
   ],
   "source": [
    "x=torch.zeros(5,3,dtype=torch.long)\n",
    "print(x)"
   ]
  },
  {
   "cell_type": "code",
   "execution_count": 5,
   "metadata": {},
   "outputs": [
    {
     "name": "stdout",
     "output_type": "stream",
     "text": "tensor([5.5000, 3.0000])\n"
    }
   ],
   "source": [
    "x=torch.tensor([5.5,3])\n",
    "print(x)"
   ]
  },
  {
   "cell_type": "code",
   "execution_count": 6,
   "metadata": {},
   "outputs": [
    {
     "name": "stdout",
     "output_type": "stream",
     "text": "tensor([[1., 1., 1.],\n        [1., 1., 1.],\n        [1., 1., 1.],\n        [1., 1., 1.],\n        [1., 1., 1.]], dtype=torch.float64)\ntensor([[ 1.5580,  0.4026,  1.5441],\n        [ 1.1689, -0.1344,  0.1588],\n        [-0.1300, -1.2169, -0.2444],\n        [-1.6961, -1.3372,  0.7064],\n        [ 0.2113, -0.4972,  0.0542]])\n"
    }
   ],
   "source": [
    "x=x.new_ones(5,3,dtype=torch.float64)\n",
    "print(x)\n",
    "x=torch.randn_like(x,dtype=torch.float)\n",
    "print(x)\n"
   ]
  },
  {
   "cell_type": "code",
   "execution_count": 7,
   "metadata": {},
   "outputs": [
    {
     "name": "stdout",
     "output_type": "stream",
     "text": "torch.Size([5, 3])\ntorch.Size([5, 3])\n"
    }
   ],
   "source": [
    "print(x.size())\n",
    "print(x.shape)#返回值是tuple支持tuple的所有操作"
   ]
  },
  {
   "cell_type": "code",
   "execution_count": 8,
   "metadata": {},
   "outputs": [
    {
     "name": "stdout",
     "output_type": "stream",
     "text": "tensor([[ 2.3735,  0.6952,  1.6369],\n        [ 2.0509,  0.4700,  0.1632],\n        [ 0.3748, -0.2851, -0.1982],\n        [-0.9946, -1.3075,  1.1628],\n        [ 0.9147,  0.3067,  0.5907]])\n"
    }
   ],
   "source": [
    "y=torch.rand(5,3)\n",
    "print(x+y)"
   ]
  },
  {
   "cell_type": "code",
   "execution_count": 10,
   "metadata": {},
   "outputs": [
    {
     "name": "stdout",
     "output_type": "stream",
     "text": "tensor([[ 2.3735,  0.6952,  1.6369],\n        [ 2.0509,  0.4700,  0.1632],\n        [ 0.3748, -0.2851, -0.1982],\n        [-0.9946, -1.3075,  1.1628],\n        [ 0.9147,  0.3067,  0.5907]])\ntensor([[ 2.3735,  0.6952,  1.6369],\n        [ 2.0509,  0.4700,  0.1632],\n        [ 0.3748, -0.2851, -0.1982],\n        [-0.9946, -1.3075,  1.1628],\n        [ 0.9147,  0.3067,  0.5907]])\n"
    }
   ],
   "source": [
    "print(torch.add(x,y))\n",
    "result=torch.empty(5,3)\n",
    "torch.add(x,y,out=result)\n",
    "print(result)"
   ]
  },
  {
   "cell_type": "code",
   "execution_count": 11,
   "metadata": {},
   "outputs": [
    {
     "data": {
      "text/plain": "tensor([[ 2.3735,  0.6952,  1.6369],\n        [ 2.0509,  0.4700,  0.1632],\n        [ 0.3748, -0.2851, -0.1982],\n        [-0.9946, -1.3075,  1.1628],\n        [ 0.9147,  0.3067,  0.5907]])"
     },
     "execution_count": 11,
     "metadata": {},
     "output_type": "execute_result"
    }
   ],
   "source": [
    "y.add_(x)#所有inplace版本都有后缀"
   ]
  },
  {
   "cell_type": "code",
   "execution_count": 12,
   "metadata": {},
   "outputs": [
    {
     "name": "stdout",
     "output_type": "stream",
     "text": "tensor([2.5580, 1.4026, 2.5441])\ntensor([2.5580, 1.4026, 2.5441])\n"
    }
   ],
   "source": [
    "#索引，类似numpy的索引操作来访问，索引出来的结果是和原数据共享内存的\n",
    "y=x[0,:]\n",
    "y+=1\n",
    "print(y)\n",
    "print(x[0,:])"
   ]
  },
  {
   "cell_type": "code",
   "execution_count": 14,
   "metadata": {},
   "outputs": [
    {
     "name": "stdout",
     "output_type": "stream",
     "text": "tensor([ 2.5580,  1.4026,  2.5441,  1.1689, -0.1344,  0.1588, -0.1300, -1.2169,\n        -0.2444, -1.6961, -1.3372,  0.7064,  0.2113, -0.4972,  0.0542])\ntensor([ 2.5580,  1.4026,  2.5441,  1.1689, -0.1344,  0.1588, -0.1300, -1.2169,\n        -0.2444, -1.6961, -1.3372,  0.7064,  0.2113, -0.4972,  0.0542])\n"
    }
   ],
   "source": [
    "#用view来改变tensor的形状，但是是共享data的\n",
    "y=x.view(15)\n",
    "print(y)\n",
    "#要获得真的副本，需要用reshape()改变形状,但是不能保证返回拷贝，所以推荐用clone创建一个副本再用view()\n",
    "x_cp=x.clone().view(15)\n",
    "print(x_cp)\n",
    "#而且使用clone会被记录在计算图中"
   ]
  },
  {
   "cell_type": "code",
   "execution_count": 15,
   "metadata": {},
   "outputs": [
    {
     "name": "stdout",
     "output_type": "stream",
     "text": "tensor([-1.8057])\n-1.8056740760803223\n"
    }
   ],
   "source": [
    "#item()把标量转化成python number\n",
    "x=torch.randn(1)\n",
    "print(x)\n",
    "print(x.item())\n"
   ]
  }
 ]
}